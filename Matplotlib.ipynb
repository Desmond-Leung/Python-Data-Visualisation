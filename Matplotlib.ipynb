{
 "cells": [
  {
   "cell_type": "markdown",
   "id": "5d9a5976",
   "metadata": {},
   "source": [
    "# Matplotlib Basics"
   ]
  },
  {
   "cell_type": "code",
   "execution_count": 1,
   "id": "8745ef04",
   "metadata": {},
   "outputs": [],
   "source": [
    "import matplotlib.pyplot as plt"
   ]
  },
  {
   "cell_type": "code",
   "execution_count": 2,
   "id": "745da7b4",
   "metadata": {},
   "outputs": [],
   "source": [
    "import numpy as np"
   ]
  },
  {
   "cell_type": "code",
   "execution_count": 3,
   "id": "118f77e0",
   "metadata": {},
   "outputs": [],
   "source": [
    "# Let's make some basic numpy arrays to plot"
   ]
  },
  {
   "cell_type": "code",
   "execution_count": 4,
   "id": "b7707ddc",
   "metadata": {},
   "outputs": [],
   "source": [
    "x = np.arange(0,10)"
   ]
  },
  {
   "cell_type": "code",
   "execution_count": 5,
   "id": "43ddfbe8",
   "metadata": {},
   "outputs": [],
   "source": [
    "y=2*x"
   ]
  },
  {
   "cell_type": "code",
   "execution_count": 6,
   "id": "f8c6709b",
   "metadata": {},
   "outputs": [
    {
     "data": {
      "text/plain": [
       "array([0, 1, 2, 3, 4, 5, 6, 7, 8, 9])"
      ]
     },
     "execution_count": 6,
     "metadata": {},
     "output_type": "execute_result"
    }
   ],
   "source": [
    "x"
   ]
  },
  {
   "cell_type": "code",
   "execution_count": 7,
   "id": "d659bea7",
   "metadata": {},
   "outputs": [
    {
     "data": {
      "text/plain": [
       "array([ 0,  2,  4,  6,  8, 10, 12, 14, 16, 18])"
      ]
     },
     "execution_count": 7,
     "metadata": {},
     "output_type": "execute_result"
    }
   ],
   "source": [
    "y"
   ]
  },
  {
   "cell_type": "code",
   "execution_count": 8,
   "id": "9a2957c6",
   "metadata": {},
   "outputs": [
    {
     "data": {
      "text/plain": [
       "Text(0, 0.5, 'Y')"
      ]
     },
     "execution_count": 8,
     "metadata": {},
     "output_type": "execute_result"
    },
    {
     "data": {
      "image/png": "[encoded data removed]",
      "text/plain": [
       "<Figure size 432x288 with 1 Axes>"
      ]
     },
     "metadata": {
      "needs_background": "light"
     },
     "output_type": "display_data"
    }
   ],
   "source": [
    "plt.plot(x,y)\n",
    "plt.title('My Matplotlib Plot')\n",
    "plt.xlabel('X')\n",
    "plt.ylabel('Y')\n",
    "# plt.xlim(0,6)\n",
    "# plt.ylim(0,15)"
   ]
  },
  {
   "cell_type": "markdown",
   "id": "a5b4db91",
   "metadata": {},
   "source": [
    "### Saving a Plot"
   ]
  },
  {
   "cell_type": "code",
   "execution_count": 9,
   "id": "adc018f2",
   "metadata": {},
   "outputs": [],
   "source": [
    "# help(plt.savefig)"
   ]
  },
  {
   "cell_type": "code",
   "execution_count": 10,
   "id": "5acb24d3",
   "metadata": {},
   "outputs": [
    {
     "data": {
      "image/png": "[encoded data removed]",
      "text/plain": [
       "<Figure size 432x288 with 1 Axes>"
      ]
     },
     "metadata": {
      "needs_background": "light"
     },
     "output_type": "display_data"
    }
   ],
   "source": [
    "plt.plot(x,y)\n",
    "plt.title('My Matplotlib Plot')\n",
    "plt.xlabel('X')\n",
    "plt.ylabel('Y')\n",
    "plt.savefig('My First Plot.png')"
   ]
  },
  {
   "cell_type": "markdown",
   "id": "6aedb57e",
   "metadata": {},
   "source": [
    "# Matplotlib - Understanding the Figure Object"
   ]
  },
  {
   "cell_type": "code",
   "execution_count": 11,
   "id": "02a9982f",
   "metadata": {},
   "outputs": [],
   "source": [
    "# First, create a blank canvas with 0 axes."
   ]
  },
  {
   "cell_type": "code",
   "execution_count": 12,
   "id": "7ae819f8",
   "metadata": {},
   "outputs": [
    {
     "data": {
      "text/plain": [
       "<Figure size 432x288 with 0 Axes>"
      ]
     },
     "metadata": {},
     "output_type": "display_data"
    }
   ],
   "source": [
    "fig = plt.figure()"
   ]
  },
  {
   "cell_type": "code",
   "execution_count": 15,
   "id": "c87e6685",
   "metadata": {},
   "outputs": [],
   "source": [
    "# Now add axes to plot"
   ]
  },
  {
   "cell_type": "code",
   "execution_count": 14,
   "id": "b9f61ca7",
   "metadata": {},
   "outputs": [],
   "source": [
    "axes = fig.add_axes([0,0,1,1])"
   ]
  },
  {
   "cell_type": "markdown",
   "id": "b0ff9ae4",
   "metadata": {},
   "source": [
    "# Implementing Figures and Axes"
   ]
  },
  {
   "cell_type": "code",
   "execution_count": 16,
   "id": "093e02aa",
   "metadata": {},
   "outputs": [],
   "source": [
    "# DATA"
   ]
  },
  {
   "cell_type": "code",
   "execution_count": 17,
   "id": "06e031e6",
   "metadata": {},
   "outputs": [],
   "source": [
    "a = np.linspace(0,10,11)"
   ]
  },
  {
   "cell_type": "code",
   "execution_count": 18,
   "id": "47789b3b",
   "metadata": {},
   "outputs": [],
   "source": [
    "b = a**4"
   ]
  },
  {
   "cell_type": "code",
   "execution_count": 19,
   "id": "5d6a5610",
   "metadata": {},
   "outputs": [
    {
     "data": {
      "text/plain": [
       "array([ 0.,  1.,  2.,  3.,  4.,  5.,  6.,  7.,  8.,  9., 10.])"
      ]
     },
     "execution_count": 19,
     "metadata": {},
     "output_type": "execute_result"
    }
   ],
   "source": [
    "a"
   ]
  },
  {
   "cell_type": "code",
   "execution_count": 20,
   "id": "5e366dc3",
   "metadata": {},
   "outputs": [
    {
     "data": {
      "text/plain": [
       "array([0.000e+00, 1.000e+00, 1.600e+01, 8.100e+01, 2.560e+02, 6.250e+02,\n",
       "       1.296e+03, 2.401e+03, 4.096e+03, 6.561e+03, 1.000e+04])"
      ]
     },
     "execution_count": 20,
     "metadata": {},
     "output_type": "execute_result"
    }
   ],
   "source": [
    "b"
   ]
  },
  {
   "cell_type": "code",
   "execution_count": 21,
   "id": "07a48e63",
   "metadata": {},
   "outputs": [],
   "source": [
    "x = np.arange(0,10)"
   ]
  },
  {
   "cell_type": "code",
   "execution_count": 22,
   "id": "db1bdf94",
   "metadata": {},
   "outputs": [],
   "source": [
    "y=2*x"
   ]
  },
  {
   "cell_type": "code",
   "execution_count": 23,
   "id": "39affd77",
   "metadata": {},
   "outputs": [
    {
     "data": {
      "text/plain": [
       "array([0, 1, 2, 3, 4, 5, 6, 7, 8, 9])"
      ]
     },
     "execution_count": 23,
     "metadata": {},
     "output_type": "execute_result"
    }
   ],
   "source": [
    "x"
   ]
  },
  {
   "cell_type": "code",
   "execution_count": 26,
   "id": "63ee0aa3",
   "metadata": {},
   "outputs": [
    {
     "data": {
      "text/plain": [
       "array([ 0,  2,  4,  6,  8, 10, 12, 14, 16, 18])"
      ]
     },
     "execution_count": 26,
     "metadata": {},
     "output_type": "execute_result"
    }
   ],
   "source": [
    "y"
   ]
  },
  {
   "cell_type": "code",
   "execution_count": 27,
   "id": "515b0ba3",
   "metadata": {},
   "outputs": [],
   "source": [
    "# Blank Canvas"
   ]
  },
  {
   "cell_type": "code",
   "execution_count": 38,
   "id": "d2bc9ef3",
   "metadata": {},
   "outputs": [
    {
     "data": {
      "text/plain": [
       "Text(0.5, 1.0, 'Zoomed In')"
      ]
     },
     "execution_count": 38,
     "metadata": {},
     "output_type": "execute_result"
    },
    {
     "data": {
      "image/png": "[encoded data removed]",
      "text/plain": [
       "<Figure size 432x288 with 2 Axes>"
      ]
     },
     "metadata": {
      "needs_background": "light"
     },
     "output_type": "display_data"
    }
   ],
   "source": [
    "fig = plt.figure()\n",
    "\n",
    "# LARGE AXES\n",
    "axes1 = fig.add_axes([0,0,1,1])\n",
    "axes1.plot(a,b)\n",
    "axes1.set_xlim(0,8)\n",
    "axes1.set_ylim(0,8000)\n",
    "axes1.set_xlabel('A')\n",
    "axes1.set_ylabel('B')\n",
    "axes1.set_title('Power of 4')\n",
    "\n",
    "# SMALL AXES\n",
    "axes2 = fig.add_axes([0.2,0.5,0.25,0.25])\n",
    "axes2.plot(a,b)\n",
    "axes2.set_xlim(1,2)\n",
    "axes2.set_ylim(0,50)\n",
    "axes2.set_xlabel('A')\n",
    "axes2.set_ylabel('B')\n",
    "axes2.set_title('Zoomed In')"
   ]
  },
  {
   "cell_type": "markdown",
   "id": "394acd99",
   "metadata": {},
   "source": [
    "## Figure Parameters"
   ]
  },
  {
   "cell_type": "code",
   "execution_count": 49,
   "id": "32fc09a1",
   "metadata": {},
   "outputs": [
    {
     "data": {
      "image/png": "[encoded data removed]",
      "text/plain": [
       "<Figure size 700x500 with 1 Axes>"
      ]
     },
     "metadata": {
      "needs_background": "light"
     },
     "output_type": "display_data"
    }
   ],
   "source": [
    "fig = plt.figure(dpi=100,figsize=(7,5))\n",
    "\n",
    "axes1=fig.add_axes([0,0,1,1])\n",
    "axes1.plot(a,b)\n",
    "\n",
    "# bbox_inches='tight' makes it so you can see the axes labels on the saved plot\n",
    "fig.savefig('New_Figure.png',bbox_inches='tight')"
   ]
  },
  {
   "cell_type": "markdown",
   "id": "58cecf60",
   "metadata": {},
   "source": [
    "# Subplots"
   ]
  },
  {
   "cell_type": "code",
   "execution_count": 50,
   "id": "84778523",
   "metadata": {},
   "outputs": [],
   "source": [
    "# DATA"
   ]
  },
  {
   "cell_type": "code",
   "execution_count": 56,
   "id": "b27589e1",
   "metadata": {},
   "outputs": [],
   "source": [
    "a = np.linspace(0,10,11)\n",
    "b = a**4"
   ]
  },
  {
   "cell_type": "code",
   "execution_count": 57,
   "id": "97ad478f",
   "metadata": {},
   "outputs": [],
   "source": [
    "x = np.arange(0,10)\n",
    "y = 2*x"
   ]
  },
  {
   "cell_type": "code",
   "execution_count": 80,
   "id": "8a8a4a89",
   "metadata": {},
   "outputs": [
    {
     "data": {
      "image/png": "[encoded data removed]",
      "text/plain": [
       "<Figure size 432x288 with 4 Axes>"
      ]
     },
     "metadata": {
      "needs_background": "light"
     },
     "output_type": "display_data"
    }
   ],
   "source": [
    "fig,axes=plt.subplots(nrows=2,ncols=2)\n",
    "\n",
    "# Numpy indexing. Two []s needed because the numpy array of axes is 2D.\n",
    "axes[0][0].plot(x,y)\n",
    "axes[0][0].set_title('Title 0,0')\n",
    "axes[0][0].set_xlim(2,6)\n",
    "axes[1][1].plot(a,b)\n",
    "axes[1][1].set_title('Title 1,1')\n",
    "\n",
    "fig.suptitle('Figure Level Title',fontsize=16)\n",
    "\n",
    "plt.tight_layout()\n",
    "# fig.subplots_adjust(wspace=,hspace=)\n",
    "\n",
    "fig.savefig('My Subplots.png',bbox_inches='tight')"
   ]
  },
  {
   "cell_type": "code",
   "execution_count": 67,
   "id": "2b29cb08",
   "metadata": {},
   "outputs": [
    {
     "data": {
      "text/plain": [
       "numpy.ndarray"
      ]
     },
     "execution_count": 67,
     "metadata": {},
     "output_type": "execute_result"
    }
   ],
   "source": [
    "type(axes)"
   ]
  },
  {
   "cell_type": "code",
   "execution_count": 68,
   "id": "5fb76368",
   "metadata": {},
   "outputs": [
    {
     "data": {
      "text/plain": [
       "(2, 2)"
      ]
     },
     "execution_count": 68,
     "metadata": {},
     "output_type": "execute_result"
    }
   ],
   "source": [
    "axes.shape"
   ]
  },
  {
   "cell_type": "code",
   "execution_count": 69,
   "id": "29c66f0f",
   "metadata": {},
   "outputs": [
    {
     "data": {
      "text/plain": [
       "array([[<AxesSubplot:>, <AxesSubplot:>],\n",
       "       [<AxesSubplot:>, <AxesSubplot:>]], dtype=object)"
      ]
     },
     "execution_count": 69,
     "metadata": {},
     "output_type": "execute_result"
    }
   ],
   "source": [
    "axes"
   ]
  },
  {
   "cell_type": "markdown",
   "id": "cfb6f903",
   "metadata": {},
   "source": [
    "# Matplotlib Styling"
   ]
  },
  {
   "cell_type": "code",
   "execution_count": 81,
   "id": "79820534",
   "metadata": {},
   "outputs": [],
   "source": [
    "x=np.linspace(0,11,10)"
   ]
  },
  {
   "cell_type": "code",
   "execution_count": 87,
   "id": "7f24561e",
   "metadata": {},
   "outputs": [
    {
     "data": {
      "text/plain": [
       "<matplotlib.legend.Legend at 0x28f5a5cafa0>"
      ]
     },
     "execution_count": 87,
     "metadata": {},
     "output_type": "execute_result"
    },
    {
     "data": {
      "image/png": "[encoded data removed]",
      "text/plain": [
       "<Figure size 432x288 with 1 Axes>"
      ]
     },
     "metadata": {
      "needs_background": "light"
     },
     "output_type": "display_data"
    }
   ],
   "source": [
    "fig = plt.figure()\n",
    "\n",
    "ax = fig.add_axes([0,0,1,1])\n",
    "ax.plot(x,x,label='linear')\n",
    "ax.plot(x,x**2,label='exponential')\n",
    "ax.legend(loc=0)"
   ]
  },
  {
   "cell_type": "markdown",
   "id": "c6d078fc",
   "metadata": {},
   "source": [
    "# Colours, Line Appearance, Markers etc"
   ]
  },
  {
   "cell_type": "code",
   "execution_count": 88,
   "id": "05f419ca",
   "metadata": {},
   "outputs": [
    {
     "data": {
      "text/plain": [
       "array([ 0.        ,  1.22222222,  2.44444444,  3.66666667,  4.88888889,\n",
       "        6.11111111,  7.33333333,  8.55555556,  9.77777778, 11.        ])"
      ]
     },
     "execution_count": 88,
     "metadata": {},
     "output_type": "execute_result"
    }
   ],
   "source": [
    "x"
   ]
  },
  {
   "cell_type": "code",
   "execution_count": 103,
   "id": "24b8cb35",
   "metadata": {},
   "outputs": [
    {
     "data": {
      "text/plain": [
       "[<matplotlib.lines.Line2D at 0x28f59be0100>]"
      ]
     },
     "execution_count": 103,
     "metadata": {},
     "output_type": "execute_result"
    },
    {
     "data": {
      "image/png": "[encoded data removed]",
      "text/plain": [
       "<Figure size 432x288 with 1 Axes>"
      ]
     },
     "metadata": {
      "needs_background": "light"
     },
     "output_type": "display_data"
    }
   ],
   "source": [
    "fig = plt.figure()\n",
    "\n",
    "ax = fig.add_axes([0,0,1,1])\n",
    "ax.plot(x,x,color='red',lw=4,ls='--' )  # Can also take an RGB hex code\n",
    "ax.plot(x,x+1,color='#e6c017',marker='o',ms=10,markerfacecolor='black',\n",
    "        markeredgewidth=1,markeredgecolor='red')"
   ]
  },
  {
   "cell_type": "code",
   "execution_count": 104,
   "id": "fef373bf",
   "metadata": {},
   "outputs": [],
   "source": [
    "# Look at notebook for this lecture for more advanced matplotlib commands"
   ]
  }
 ],
 "metadata": {
  "kernelspec": {
   "display_name": "Python 3",
   "language": "python",
   "name": "python3"
  },
  "language_info": {
   "codemirror_mode": {
    "name": "ipython",
    "version": 3
   },
   "file_extension": ".py",
   "mimetype": "text/x-python",
   "name": "python",
   "nbconvert_exporter": "python",
   "pygments_lexer": "ipython3",
   "version": "3.8.8"
  }
 },
 "nbformat": 4,
 "nbformat_minor": 5
}
